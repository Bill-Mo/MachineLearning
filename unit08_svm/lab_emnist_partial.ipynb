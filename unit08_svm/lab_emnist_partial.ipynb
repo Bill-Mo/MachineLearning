{
 "cells": [
  {
   "cell_type": "markdown",
   "metadata": {},
   "source": [
    "# Lab: SVMs on Extended MNIST\n",
    "\n",
    "In the [MNIST demo](demo_mnist_svm.ipynb), we saw how SVMs can be used for the classic MNIST problem of digit recognition. In this lab, we are going to extend the MNIST dataset by adding a number of non-digit letters and see if the classifier can distinguish the digits from the non-digits. All non-digits will be lumped as a single 11-th class. This is a highly simplified version of 'detection' problem (as opposed to 'classification' problem). Detection is vital in OCR and related problems since the non useful characters must be rejected. \n",
    "\n",
    "In addition to the concepts in the demo, you will learn:\n",
    "* Combine multiple datasets\n",
    "* Select the SVM parameters (`C` and `gamma`) via cross-validation.\n",
    "* Use the `GridSearchCV` method to search for parameters with cross-validation.\n",
    "\n",
    "Note:  An [earlier version](lab_emnist_2017_partial.ipynb) of this lab made you manually create the combined letter and digit data.  In this lab, we will download the data from NIST website.  But, the old lab is still useful to look at if you want to see how to use `skimage` package for a number of image pre-processing tasks."
   ]
  },
  {
   "cell_type": "markdown",
   "metadata": {},
   "source": [
    "As usual, we download the standard packages"
   ]
  },
  {
   "cell_type": "code",
   "execution_count": 1,
   "metadata": {
    "collapsed": true
   },
   "outputs": [],
   "source": [
    "import numpy as np\n",
    "import matplotlib.pyplot as plt\n",
    "%matplotlib inline\n",
    "from sklearn import linear_model, preprocessing"
   ]
  },
  {
   "cell_type": "markdown",
   "metadata": {},
   "source": [
    "## Downloading the EMNIST Dataset\n",
    "\n",
    "After creating the highly popular MNIST dataset, NIST created an extended version of the dataset to include letters and digits.     The extended datase (called EMNIST) also has many more examples per class.  \n",
    "\n",
    "To download the data, first go to the [EMNIST webpage](https://www.nist.gov/itl/iad/image-group/emnist-dataset).  Near the bottom, you will see a link for `MATLAB format dataset`.  If you click on this link, you will download a `zip` file with several datasets in it.  The total file is 726M, so it may take some time and diskspace to download.  Extract two files:\n",
    "* `emnist-digits.mat`:  This is a file of digits `0` to `9`, but with more examples per class.\n",
    "* `emnist-letters.mat`:  This is a file of letters `a/A` to `z/Z`.  The lower and upper case letters are grouped into the same class.\n",
    "\n",
    "Once you get these two files, you can save yourself the diskspace and remove all the other files.\n",
    "\n",
    "You can download the files manually, or you can run the following commands which will download the files automatically.  "
   ]
  },
  {
   "cell_type": "code",
   "execution_count": 2,
   "metadata": {},
   "outputs": [
    {
     "name": "stdout",
     "output_type": "stream",
     "text": [
      "Files already downloaded\n"
     ]
    }
   ],
   "source": [
    "from tqdm import tqdm\n",
    "import requests\n",
    "import os\n",
    "import zipfile\n",
    "\n",
    "def download_file(src_url, dst_fn):\n",
    "    \n",
    "    if os.path.exists(dst_fn):\n",
    "        print('File %s already exists' % dst_fn)\n",
    "        return\n",
    "    \n",
    "    print('Downloading %s' % dst_fn)\n",
    "    \n",
    "    # Streaming, so we can iterate over the response.\n",
    "    r = requests.get(src_url, stream=True)\n",
    "\n",
    "    # Total size in MB.\n",
    "    total_size = int(r.headers.get('content-length', 0)); \n",
    "    block_size = 1024\n",
    "    wrote = 0 \n",
    "    with open(dst_fn, 'wb') as f:\n",
    "        with tqdm(total=total_size//block_size, unit='kB', \n",
    "                           unit_scale=True, unit_divisor=1024) as pbar:\n",
    "            for data in r.iter_content(block_size):\n",
    "                wrote = wrote + len(data)\n",
    "                pbar.update(1)\n",
    "                f.write(data)\n",
    "    if total_size != 0 and wrote != total_size:\n",
    "        print(\"ERROR, something went wrong\") \n",
    "\n",
    "# Get file names\n",
    "matlab_dir = 'matlab'\n",
    "digits_fn =  os.path.join(matlab_dir,'emnist-digits.mat')\n",
    "letters_fn = os.path.join(matlab_dir,'emnist-letters.mat')\n",
    "\n",
    "# Check if files exists\n",
    "if os.path.exists(matlab_dir):\n",
    "    if os.path.exists(digits_fn) and os.path.exists(letters_fn):\n",
    "        print('Files already downloaded')\n",
    "        files_exists = True\n",
    "else:\n",
    "    files_exists = False\n",
    "    \n",
    "if not files_exists:\n",
    "    # First download the zip file if needed\n",
    "    src_url = \"http://www.itl.nist.gov/iaui/vip/cs_links/EMNIST/matlab.zip\"\n",
    "    dst_fn = 'matlab.zip'\n",
    "    download_file(src_url, dst_fn)\n",
    "    \n",
    "    # Then, unzip the file\n",
    "    print('Unzipping %s...' % dst_fn)\n",
    "    zip_ref = zipfile.ZipFile(dst_fn, 'r')\n",
    "    zip_ref.extractall('.')\n",
    "    zip_ref.close()\n",
    "    print('Unzip completed')"
   ]
  },
  {
   "cell_type": "markdown",
   "metadata": {},
   "source": [
    "Since MATLAB files are still widely-used, Python has excellent routines for loading MATLAB files.  The function below uses the `scipy.io` package to extract the relevant fields from the MATLAB file.  Specifically, the function extracts the training and test data from MATLAB file. "
   ]
  },
  {
   "cell_type": "code",
   "execution_count": 3,
   "metadata": {
    "collapsed": true
   },
   "outputs": [],
   "source": [
    "import scipy.io\n",
    "def load_emnist(file_path='emnist-digits.mat'):\n",
    "    \"\"\"\n",
    "    Loads training and test data with ntr and nts training and test samples\n",
    "    The `file_path` is the location of the `eminst-balanced.mat`.\n",
    "    \"\"\"    \n",
    "    \n",
    "    # Load the MATLAB file\n",
    "    mat = scipy.io.loadmat(file_path)\n",
    "    \n",
    "    # Get the training data\n",
    "    Xtr = mat['dataset'][0][0][0][0][0][0][:]\n",
    "    ntr = Xtr.shape[0]\n",
    "    ytr = mat['dataset'][0][0][0][0][0][1][:].reshape(ntr).astype(int)\n",
    "    \n",
    "    # Get the test data\n",
    "    Xts = mat['dataset'][0][0][1][0][0][0][:]\n",
    "    nts = Xts.shape[0]\n",
    "    yts = mat['dataset'][0][0][1][0][0][1][:].reshape(nts).astype(int)\n",
    "    \n",
    "    print(\"%d training samples, %d test samples loaded\" % (ntr, nts))\n",
    "\n",
    "    return [Xtr, Xts, ytr, yts]"
   ]
  },
  {
   "cell_type": "markdown",
   "metadata": {},
   "source": [
    "Use the function above to get all the digit images from the `emnist-digits.mat` file.  "
   ]
  },
  {
   "cell_type": "code",
   "execution_count": 4,
   "metadata": {
    "collapsed": true
   },
   "outputs": [
    {
     "name": "stdout",
     "output_type": "stream",
     "text": [
      "240000 training samples, 40000 test samples loaded\n"
     ]
    }
   ],
   "source": [
    "# TODO 1:  Load the digit data from emnist-digits.mat\n",
    "os.chdir('matlab')\n",
    "Xtr_dig, Xts_dig, ytr_dig, yts_dig = load_emnist('emnist-digits.mat')"
   ]
  },
  {
   "cell_type": "markdown",
   "metadata": {},
   "source": [
    "Next, use the function above to get all the letter characters from the `emnist-letters.mat` file.  "
   ]
  },
  {
   "cell_type": "code",
   "execution_count": 5,
   "metadata": {
    "collapsed": true
   },
   "outputs": [
    {
     "name": "stdout",
     "output_type": "stream",
     "text": [
      "124800 training samples, 20800 test samples loaded\n"
     ]
    }
   ],
   "source": [
    "# TODO 2:  Load the letter data from emnist-letters.mat\n",
    "Xtr_let, Xts_let, ytr_let, yts_let = load_emnist('emnist-letters.mat')"
   ]
  },
  {
   "cell_type": "markdown",
   "metadata": {},
   "source": [
    "We will use the function from the demo to plot the digits."
   ]
  },
  {
   "cell_type": "code",
   "execution_count": 6,
   "metadata": {
    "collapsed": true
   },
   "outputs": [],
   "source": [
    "def plt_digit(x,y=None):\n",
    "    nrow = 28\n",
    "    ncol = 28\n",
    "    xsq = x.reshape((nrow,ncol))\n",
    "    plt.imshow(xsq.T,  cmap='Greys_r')\n",
    "    plt.xticks([])\n",
    "    plt.yticks([])    \n",
    "    if y != None:\n",
    "        plt.title('%d' % y)        "
   ]
  },
  {
   "cell_type": "code",
   "execution_count": 7,
   "metadata": {},
   "outputs": [],
   "source": [
    "def plt_digit(ax, x):\n",
    "    nrow = 28\n",
    "    ncol = 28\n",
    "    xsq = x.reshape((nrow,ncol))\n",
    "    ax.imshow(xsq,  cmap='Greys_r')\n",
    "    ax.set_xticks([])\n",
    "    ax.set_yticks([])"
   ]
  },
  {
   "cell_type": "markdown",
   "metadata": {},
   "source": [
    "Plot 8 random samples from the digit training data.  You can use the `plt_digit` function above with `subplot` to create a nice display.  You may want to size your plot with the `plt.figure(figsize=(10,20))` command."
   ]
  },
  {
   "cell_type": "code",
   "execution_count": 8,
   "metadata": {
    "collapsed": true
   },
   "outputs": [
    {
     "data": {
      "image/png": "[encoded data removed]",
      "text/plain": [
       "<Figure size 1000x2000 with 8 Axes>"
      ]
     },
     "metadata": {},
     "output_type": "display_data"
    }
   ],
   "source": [
    "# TODO 3:  Plot 8 random samples from the training data of the digits\n",
    "\n",
    "nplt = 8\n",
    "Iperm = np.random.permutation(Xtr_dig.shape[0])\n",
    "\n",
    "fig, ax = plt.subplots(1, nplt,figsize=(10,20))\n",
    "for i in range(nplt):\n",
    "    ind = Iperm[i]\n",
    "    plt_digit(ax[i], Xtr_dig[ind,:])"
   ]
  },
  {
   "cell_type": "markdown",
   "metadata": {},
   "source": [
    "Next, plot 8 samples from the letters training data.  You should see that the labels go from 0 to 25 corresponding to `a` to `z`.  Upper and lower case letters belong to the same class."
   ]
  },
  {
   "cell_type": "code",
   "execution_count": 9,
   "metadata": {
    "collapsed": true
   },
   "outputs": [
    {
     "data": {
      "image/png": "[encoded data removed]",
      "text/plain": [
       "<Figure size 1000x2000 with 8 Axes>"
      ]
     },
     "metadata": {},
     "output_type": "display_data"
    }
   ],
   "source": [
    "# TODO 4:  Plot 8 random samples from the training data of the letters\n",
    "nplt = 8\n",
    "Iperm = np.random.permutation(Xtr_let.shape[0])\n",
    "\n",
    "fig, ax = plt.subplots(1,nplt,figsize=(10,20))\n",
    "for i in range(nplt):\n",
    "    ind = Iperm[i]\n",
    "    plt_digit(ax[i], Xtr_dig[ind,:])"
   ]
  },
  {
   "cell_type": "markdown",
   "metadata": {},
   "source": [
    "## Creating a Non-Digit Class\n",
    "\n",
    "SVM classifiers are VERY SLOW to train.  The training is particularly slow when there are a large number of classes, since the one classifier must be trained for each pair of labels.  To make the problem easier, we are going to lump all of the letters in one class and add that class to the digits.  \n",
    "\n",
    "Before we begin, we first need to remove all the letters corresponding to `i/I`, `l/L` and `o/O`.  The reason is that these letters would get confused with the digits `0` and `1`.  Create arrays `Xtr_let_rem` and `ytr_let_rem` from the data `Xtr_let` and `ytr_let`, where the samples `i` with `ytr_let[i] == 9, 12` or `15` are removed.   Create `Xts_let_rem` and `yts_let_rem` similarly.\n",
    "\n",
    "If you are clever, you can do this without a for-loop via python broadcasting and `np.all(..., axis=1)` command.  But, you will receive full marks if you use a `for-loop`."
   ]
  },
  {
   "cell_type": "code",
   "execution_count": 10,
   "metadata": {
    "collapsed": true
   },
   "outputs": [],
   "source": [
    "remove_list = np.array([9,12,15])\n",
    "\n",
    "# TODO 5:  Create arrays with labels 9, 12 and 15 removed\n",
    "tr_rem = np.where(ytr_let == remove_list.any())\n",
    "ts_rem = np.where(yts_let == remove_list.any())\n",
    "Xtr_let_rem = np.delete(Xtr_let, tr_rem, 0)\n",
    "ytr_let_rem = np.delete(ytr_let, tr_rem, 0)\n",
    "Xts_let_rem = np.delete(Xts_let, ts_rem, 0)\n",
    "yts_let_rem = np.delete(yts_let, ts_rem, 0)"
   ]
  },
  {
   "cell_type": "markdown",
   "metadata": {},
   "source": [
    "Since training and testing an SVM is VERY SLOW, we will use only a small subset of the training and test data.  Of course, you will not get great results with this small dataset.  But, we can at least illustrate the basic concepts.  \n",
    "\n",
    "Create arrays `Xtr1_dig` and `ytr1_dig` by selecting 5000 random training digit samples from `Xtr_dig` and `ytr_dig`.  Create arrays `Xtr1_let` and `ytr1_let` by selecting 1000 random training letter samples from `Xtr_let_rem` and `ytr_let_rem`.  Similarly, create test arrays `Xts1_dig,Xts1_let,yts1_dig,yts1_let` with 5000 digits and 1000 letters."
   ]
  },
  {
   "cell_type": "code",
   "execution_count": 11,
   "metadata": {
    "collapsed": true
   },
   "outputs": [],
   "source": [
    "# Number of training and test digits and letters\n",
    "ntr_dig = 5000\n",
    "ntr_let = 1000\n",
    "nts_dig = 5000\n",
    "nts_let = 1000\n",
    "\n",
    "# TODO 6 Create sub-sampled training and test data\n",
    "tr1_dig = np.random.choice(Xtr_dig.shape[0], ntr_dig)\n",
    "ts1_dig = np.random.choice(Xts_dig.shape[0], nts_dig)\n",
    "tr1_let = np.random.choice(Xtr_let_rem.shape[0], ntr_dig)\n",
    "ts1_let = np.random.choice(Xts_let_rem.shape[0], nts_let)\n",
    "Xtr1_dig, ytr1_dig = Xtr_dig[tr1_dig], ytr_dig[tr1_dig]\n",
    "Xts1_dig, yts1_dig = Xts_dig[ts1_dig], yts_dig[ts1_dig]\n",
    "Xtr1_let, ytr1_let = Xtr_let_rem[tr1_let], ytr_let_rem[tr1_let]\n",
    "Xts1_let, yts1_let = Xts_let_rem[ts1_let], yts_let_rem[ts1_let]"
   ]
  },
  {
   "cell_type": "markdown",
   "metadata": {},
   "source": [
    "Next, we create data by combining the digit and letter arrays.\n",
    "* Create an array `Xtr` by stacking `Xtr1_dig`, `Xtr1_let`.  This should result in 6000 total samples.\n",
    "* Create a new label vector `ytr` where `ytr[i] = ytr1_dig[i]` for any digit sample and `ytr[i]=10` for any letter sample.  Thus, all the letters are lumped into a single class with label 11.\n",
    "\n",
    "Create test arrays `Xts` and `yts` similarly. \n",
    "\n",
    "You may wish to use the `np.hstack` and `np.vstack` methods."
   ]
  },
  {
   "cell_type": "code",
   "execution_count": 12,
   "metadata": {
    "collapsed": true
   },
   "outputs": [],
   "source": [
    "# TODO 7:  Create combined letter and digit training and test data\n",
    "ytr_let_dig_class = np.zeros(ytr1_let.shape)\n",
    "yts_let_dig_class = np.zeros(yts1_let.shape)\n",
    "ytr_let_dig_class += 10\n",
    "yts_let_dig_class += 10\n",
    "\n",
    "Xtr = np.vstack((Xtr1_dig, Xtr1_let))\n",
    "ytr = np.concatenate((ytr1_dig, ytr_let_dig_class))\n",
    "Xts = np.vstack((Xts1_dig, Xts1_let))\n",
    "yts = np.concatenate((yts1_dig, yts_let_dig_class))"
   ]
  },
  {
   "cell_type": "markdown",
   "metadata": {},
   "source": [
    "The training data above takes values from 0 to 255.  Rescale the data from -1 to 1.  This will get slightly better performance on the SVM.  Save the scaled data into arrays `Xtr1` and `Xts1`."
   ]
  },
  {
   "cell_type": "code",
   "execution_count": 13,
   "metadata": {
    "collapsed": true
   },
   "outputs": [],
   "source": [
    "# TODO 8:  Rescale the data from -1 to 1\n",
    "Xtr1 = (Xtr - (255 - 0) / 2) / ((255 - 0) / 2)\n",
    "Xts1 = (Xts - (255 - 0) / 2) / ((255 - 0) / 2)"
   ]
  },
  {
   "cell_type": "markdown",
   "metadata": {},
   "source": [
    "## Run the SVM classifier\n",
    "\n",
    "First create the SVM classifer. Use an `rbf` classifier with `C=2.8` and `gamma=.0073`. We will look at how to select these parameters laters."
   ]
  },
  {
   "cell_type": "code",
   "execution_count": 14,
   "metadata": {
    "collapsed": true
   },
   "outputs": [],
   "source": [
    "from sklearn import svm\n",
    "\n",
    "# TODO 9:  Create a classifier: a support vector classifier\n",
    "svc = svm.SVC(kernel='rbf', C=2.8, gamma=0.0073)"
   ]
  },
  {
   "cell_type": "markdown",
   "metadata": {},
   "source": [
    "Fit the classifier using the scaled training data.  SVMs are insanely slow to train.  But, in this lab, we have kept the training size very small. So, the fitting should take about a minute or two."
   ]
  },
  {
   "cell_type": "code",
   "execution_count": 15,
   "metadata": {
    "collapsed": true
   },
   "outputs": [
    {
     "data": {
      "text/plain": [
       "SVC(C=2.8, gamma=0.0073)"
      ]
     },
     "execution_count": 15,
     "metadata": {},
     "output_type": "execute_result"
    }
   ],
   "source": [
    "# TODO 10:  Fit the classifier on the training data. \n",
    "svc.fit(Xtr1, ytr)"
   ]
  },
  {
   "cell_type": "markdown",
   "metadata": {},
   "source": [
    "Measure the accuracy on the test data.  This too will take another huge amount of time.  Print the accuracy.  If you did everything right, you should get an accuracy of around 89%."
   ]
  },
  {
   "cell_type": "code",
   "execution_count": 16,
   "metadata": {
    "collapsed": true
   },
   "outputs": [
    {
     "name": "stdout",
     "output_type": "stream",
     "text": [
      "0.8443333333333334\n"
     ]
    }
   ],
   "source": [
    "# TODO 11:  Measure error on the test data\n",
    "yhat = svc.predict(Xts1)\n",
    "acc = np.mean(yhat == yts)\n",
    "print(acc)"
   ]
  },
  {
   "cell_type": "markdown",
   "metadata": {},
   "source": [
    "The error rate is quite a bit higher than what we got in the digits only case.  Actually, had we done a classifier using all 36 labels instead of collapsing the letters to a single class, the SVM classifier would have done much better.  The reason is that the \"letters\" class is now extremely complex.  \n",
    "\n",
    "Print a confusion matrix.  You should see that the error rate on the \"letters\" class is much higher."
   ]
  },
  {
   "cell_type": "code",
   "execution_count": 17,
   "metadata": {
    "collapsed": true
   },
   "outputs": [
    {
     "name": "stdout",
     "output_type": "stream",
     "text": [
      "[[0.741 0.    0.    0.    0.    0.    0.    0.    0.    0.    0.259]\n",
      " [0.    0.806 0.    0.    0.002 0.    0.002 0.    0.    0.    0.19 ]\n",
      " [0.    0.    0.823 0.    0.    0.    0.    0.004 0.    0.    0.173]\n",
      " [0.    0.    0.004 0.902 0.    0.    0.    0.002 0.002 0.004 0.086]\n",
      " [0.    0.    0.    0.    0.84  0.    0.    0.    0.    0.002 0.157]\n",
      " [0.    0.    0.    0.006 0.    0.791 0.    0.    0.    0.002 0.2  ]\n",
      " [0.    0.    0.    0.    0.    0.    0.881 0.    0.    0.    0.119]\n",
      " [0.    0.    0.002 0.002 0.    0.    0.    0.931 0.    0.015 0.05 ]\n",
      " [0.    0.    0.    0.006 0.    0.    0.    0.    0.758 0.    0.236]\n",
      " [0.    0.    0.    0.    0.006 0.    0.    0.004 0.    0.867 0.123]\n",
      " [0.029 0.041 0.005 0.001 0.009 0.002 0.003 0.002 0.002 0.01  0.896]]\n"
     ]
    },
    {
     "data": {
      "text/plain": [
       "<matplotlib.colorbar.Colorbar at 0x248b3a9dfa0>"
      ]
     },
     "execution_count": 17,
     "metadata": {},
     "output_type": "execute_result"
    },
    {
     "data": {
      "image/png": "[encoded data removed]",
      "text/plain": [
       "<Figure size 640x480 with 2 Axes>"
      ]
     },
     "metadata": {},
     "output_type": "display_data"
    }
   ],
   "source": [
    "# TODO 12:  Print a confusion matrix\n",
    "from sklearn.metrics import confusion_matrix\n",
    "C = confusion_matrix(yts, yhat)\n",
    "normalization = np.sum(C, axis=1)\n",
    "C = C / normalization[:, None]\n",
    "print(np.array_str(C, precision=3, suppress_small=True))\n",
    "plt.imshow(C)\n",
    "plt.colorbar()"
   ]
  },
  {
   "cell_type": "markdown",
   "metadata": {},
   "source": [
    "Print:\n",
    "* What fraction of digits are mislabeled as letters?  \n",
    "* What fraction of letters are mislabeled as digits?"
   ]
  },
  {
   "cell_type": "code",
   "execution_count": 18,
   "metadata": {
    "collapsed": true
   },
   "outputs": [
    {
     "name": "stdout",
     "output_type": "stream",
     "text": [
      "13.3% of digits are mislabeled as letters\n",
      "1.733% of letters are mislabeled as digits\n"
     ]
    }
   ],
   "source": [
    "# TODO 13:  Print above two error rates\n",
    "pred_size = yts.shape[0]\n",
    "dig_mis_let = np.array([yts[i] != 10 and yhat[i] == 10 for i in range(pred_size)])\n",
    "let_mis_dig = np.array([yts[i] == 10 and yhat[i] != 10 for i in range(pred_size)])\n",
    "dig_mis_let_frac = np.sum(dig_mis_let) / len(dig_mis_let)\n",
    "let_mis_dig_frac = np.sum(let_mis_dig) / len(let_mis_dig)\n",
    "print('{:.4}% of digits are mislabeled as letters'.format(dig_mis_let_frac * 100))\n",
    "print('{:.4}% of letters are mislabeled as digits'.format(let_mis_dig_frac * 100))"
   ]
  },
  {
   "cell_type": "markdown",
   "metadata": {},
   "source": [
    "## Selecting gamma and C via Cross-Validation (Using For-Loops)\n",
    "\n",
    "In the above example, and in the demo, we used a given `gamma` and `C` value.  The selection of the parameters depend on the problem and decent performance of the SVM requires that you select these parameters carefully.  The best way to select the parameters is via cross validation.  Specifically, generally, one tries different values of `gamma` and `C` and selects the pair of values the lowest test error rate.\n",
    "\n",
    "In the code below, we will try to use 3 values for `C` and `gamma` as specified in the arrays `C_test` and `gam_test`.  For each `C` and `gamma` in these arrays, fit a model on the training data and measure the accuracy on the test data.  Then, print the `C` and `gamma` that result in the best accuracy.   \n",
    "\n",
    "Normally, you would try a large number of values for each of the parameters, but an SVM is very slow to train -- even with this small data set.  So, we will just do 3 values of each.  Even then, this could take 30 minutes or so to complete. \n",
    "\n",
    "In this lab, you may do the parameter search over `C` and `gamma` in one of two ways:\n",
    "* This section:  Use for loops and manually search over the parameters.  This is more direct and you will see and control exactly what is happening.\n",
    "* Next section:  Use the `GridSearchCV` method in the `sklearn` package.  This takes a little reading, but once you learn this method, you can more easily use this for complex parameter searches.\n",
    "\n",
    "**You only need to submit the solutions to one of the two sections.**  Pick whichever one you want."
   ]
  },
  {
   "cell_type": "code",
   "execution_count": 19,
   "metadata": {
    "collapsed": true
   },
   "outputs": [],
   "source": [
    "C_test = [0.1,1,10]\n",
    "gam_test = [0.001,0.01,0.1]\n",
    "\n",
    "nC = len(C_test)\n",
    "ngam = len(gam_test)\n",
    "acc = np.zeros((nC,ngam))\n",
    "\n",
    "# TODO 14:  Measure and print the accuracy for each C and gamma value.  Store the results in acc\n"
   ]
  },
  {
   "cell_type": "code",
   "execution_count": 20,
   "metadata": {
    "collapsed": true
   },
   "outputs": [],
   "source": [
    "# TODO 15:  Print the accuracy matrix"
   ]
  },
  {
   "cell_type": "code",
   "execution_count": 21,
   "metadata": {
    "collapsed": true
   },
   "outputs": [],
   "source": [
    "# TODO 16:  Print the maximum accuracy and the corresponding best C and gamma"
   ]
  },
  {
   "cell_type": "markdown",
   "metadata": {
    "collapsed": true
   },
   "source": [
    "## Using `GridSearchCV` (Optional Section)\n",
    "\n",
    "\n",
    "In the previous section, you would have likely used `for-loops` to search over the different `C` and `gamma` values.  Since this type of parameter search is so commonly used, `sklearn` has an excellent method `GridSearchCV` that can perform all the operations for you.  In this lab, `GridSearchCV` is not that useful.  But, once you get to more complex parameter searches, the `GridSearchCV` method can save you writing a lot of code.  Importantly, `GridSearchCV` supports parallelization so that fits with different parameters can be fit at the same time.  In this optional section, we will show how to use this method.  \n",
    "\n",
    "**You do not have to do this section, if you did the previous section**.  "
   ]
  },
  {
   "cell_type": "markdown",
   "metadata": {},
   "source": [
    "The `GridSearchCV` method does the train-test split in addition to the parameter search.  In this case, you have already a fixed train-test split.  So, you first need to combine the train and test data back into a single dataset.\n",
    "\n",
    "Create arrays `X` and `y` from `Xtr1`, `Xts1`, `ytr` and `yts`.  Use `np.vstack` and `np.hstack`."
   ]
  },
  {
   "cell_type": "code",
   "execution_count": 22,
   "metadata": {
    "collapsed": true
   },
   "outputs": [],
   "source": [
    "# TODO 17:  Create combined trained and test data X and y.\n",
    "X = np.concatenate((Xtr1, Xts1))\n",
    "y = np.concatenate((ytr, yts))"
   ]
  },
  {
   "cell_type": "markdown",
   "metadata": {},
   "source": [
    "Normally, `GridSearchCV` will do $K$-fold validation and automatically split the data into training and test in each fold.  But, in this case, we want it to perform only one fold with a specific train-test split.  To do this, we need to do the following:\n",
    "* Create a vector `test_fold` where `test_fold[i] = -1` for the samples `i` in the training data (this indicates that they should not be used as test data in any fold) and `test_fold[i] = 0` for the samples `i` in the test data (this indicates that they should be as test data in fold 0).\n",
    "* Call the method  `ps = sklearn.model_selection.PredefinedSplit(test_fold)` to create a predefined test split object."
   ]
  },
  {
   "cell_type": "code",
   "execution_count": 23,
   "metadata": {
    "collapsed": true
   },
   "outputs": [],
   "source": [
    "# TODO 18:  Create a pre-defined test split object \n",
    "import sklearn.model_selection\n",
    "\n",
    "test_fold = np.zeros(X.shape[0])\n",
    "test_fold[:Xtr1.shape[0]] = -1\n",
    "ps = sklearn.model_selection.PredefinedSplit(test_fold)"
   ]
  },
  {
   "cell_type": "markdown",
   "metadata": {},
   "source": [
    "Next, read about the `GridSearchCV` method to set up a classifier that includes searching over the parameter grid.  \n",
    "* For the `param_grid` parameter, you will want to create a dictionary to search over `C` and `gamma`.  You will also need to select the `kernel` parameter.\n",
    "* Set `cv = ps` to use the fixed train-test split.\n",
    "* Set `verbose=10` to monitor the progress"
   ]
  },
  {
   "cell_type": "code",
   "execution_count": 24,
   "metadata": {
    "collapsed": true
   },
   "outputs": [],
   "source": [
    "# TODO 19:  Create a GridSearchCV classifier\n",
    "from sklearn.model_selection import GridSearchCV\n",
    "param_grid = {\n",
    "    'C': C_test, \n",
    "    'gamma': gam_test, \n",
    "    'kernel': ('rbf', ), \n",
    "}\n",
    "svc = svm.SVC()\n",
    "clf = GridSearchCV(estimator=svc, param_grid=param_grid, cv=ps, verbose=10, return_train_score=True)"
   ]
  },
  {
   "cell_type": "markdown",
   "metadata": {},
   "source": [
    "Fit the classifier using the `fit` method.  The fit method will now search over all the parameters. This will take about 30 minutes."
   ]
  },
  {
   "cell_type": "code",
   "execution_count": 25,
   "metadata": {
    "collapsed": true
   },
   "outputs": [
    {
     "name": "stdout",
     "output_type": "stream",
     "text": [
      "Fitting 1 folds for each of 9 candidates, totalling 9 fits\n",
      "[CV 1/1; 1/9] START C=0.1, gamma=0.001, kernel=rbf..............................\n",
      "[CV 1/1; 1/9] END C=0.1, gamma=0.001, kernel=rbf;, score=(train=0.631, test=0.383) total time= 1.2min\n",
      "[CV 1/1; 2/9] START C=0.1, gamma=0.01, kernel=rbf...............................\n",
      "[CV 1/1; 2/9] END C=0.1, gamma=0.01, kernel=rbf;, score=(train=0.645, test=0.380) total time= 1.4min\n",
      "[CV 1/1; 3/9] START C=0.1, gamma=0.1, kernel=rbf................................\n",
      "[CV 1/1; 3/9] END C=0.1, gamma=0.1, kernel=rbf;, score=(train=0.500, test=0.167) total time= 2.6min\n",
      "[CV 1/1; 4/9] START C=1, gamma=0.001, kernel=rbf................................\n",
      "[CV 1/1; 4/9] END C=1, gamma=0.001, kernel=rbf;, score=(train=0.840, test=0.769) total time=  50.2s\n",
      "[CV 1/1; 5/9] START C=1, gamma=0.01, kernel=rbf.................................\n",
      "[CV 1/1; 5/9] END C=1, gamma=0.01, kernel=rbf;, score=(train=0.969, test=0.798) total time= 1.3min\n",
      "[CV 1/1; 6/9] START C=1, gamma=0.1, kernel=rbf..................................\n",
      "[CV 1/1; 6/9] END C=1, gamma=0.1, kernel=rbf;, score=(train=0.999, test=0.189) total time= 2.9min\n",
      "[CV 1/1; 7/9] START C=10, gamma=0.001, kernel=rbf...............................\n",
      "[CV 1/1; 7/9] END C=10, gamma=0.001, kernel=rbf;, score=(train=0.942, test=0.856) total time=  42.7s\n",
      "[CV 1/1; 8/9] START C=10, gamma=0.01, kernel=rbf................................\n",
      "[CV 1/1; 8/9] END C=10, gamma=0.01, kernel=rbf;, score=(train=0.995, test=0.800) total time= 1.5min\n",
      "[CV 1/1; 9/9] START C=10, gamma=0.1, kernel=rbf.................................\n",
      "[CV 1/1; 9/9] END C=10, gamma=0.1, kernel=rbf;, score=(train=1.000, test=0.193) total time= 3.1min\n"
     ]
    },
    {
     "data": {
      "text/plain": [
       "GridSearchCV(cv=PredefinedSplit(test_fold=array([-1, -1, ...,  0,  0])),\n",
       "             estimator=SVC(),\n",
       "             param_grid={'C': [0.1, 1, 10], 'gamma': [0.001, 0.01, 0.1],\n",
       "                         'kernel': ('rbf',)},\n",
       "             return_train_score=True, verbose=10)"
      ]
     },
     "execution_count": 25,
     "metadata": {},
     "output_type": "execute_result"
    }
   ],
   "source": [
    "# TODO 20: Fit the classifier\n",
    "clf.fit(X, y)"
   ]
  },
  {
   "cell_type": "markdown",
   "metadata": {},
   "source": [
    "Print the `best_score_` and `best_params_` attributes of the classifier to find the best score and parameters"
   ]
  },
  {
   "cell_type": "code",
   "execution_count": 26,
   "metadata": {
    "collapsed": true
   },
   "outputs": [
    {
     "name": "stdout",
     "output_type": "stream",
     "text": [
      "The best score is 0.8563333333333333\n",
      "The best parameters are {'C': 10, 'gamma': 0.001, 'kernel': 'rbf'}\n"
     ]
    }
   ],
   "source": [
    "# TODO 21:  Print the best parameter and score of the classifier\n",
    "print('The best score is {}'.format(clf.best_score_))\n",
    "print('The best parameters are {}'.format(clf.best_params_))"
   ]
  },
  {
   "cell_type": "markdown",
   "metadata": {},
   "source": [
    "Finally, you can print the test and train score from the `cv_results_['mean_test_score']` and `cv_results_['mean_train_score']`."
   ]
  },
  {
   "cell_type": "code",
   "execution_count": 27,
   "metadata": {
    "collapsed": true
   },
   "outputs": [
    {
     "name": "stdout",
     "output_type": "stream",
     "text": [
      "The test score is [0.38283333 0.38016667 0.16666667 0.769      0.7985     0.189\n",
      " 0.85633333 0.80033333 0.19266667]\n",
      "The train score is [0.6313 0.6454 0.5    0.8395 0.9688 0.9989 0.9416 0.9946 1.    ]\n"
     ]
    }
   ],
   "source": [
    "# TODO 22:  Print the mean test score for each parameter value.\n",
    "print('The test score is {}'.format(clf.cv_results_['mean_test_score']))\n",
    "print('The train score is {}'.format(clf.cv_results_['mean_train_score']))"
   ]
  },
  {
   "cell_type": "code",
   "execution_count": null,
   "metadata": {
    "collapsed": true
   },
   "outputs": [],
   "source": []
  }
 ],
 "metadata": {
  "kernelspec": {
   "display_name": "Python 3.9.12 ('base')",
   "language": "python",
   "name": "python3"
  },
  "language_info": {
   "codemirror_mode": {
    "name": "ipython",
    "version": 3
   },
   "file_extension": ".py",
   "mimetype": "text/x-python",
   "name": "python",
   "nbconvert_exporter": "python",
   "pygments_lexer": "ipython3",
   "version": "3.9.12"
  },
  "vscode": {
   "interpreter": {
    "hash": "a077222d77dfe082b8f1dd562ad70e458ac2ab76993a0b248ab0476e32e9e8dd"
   }
  }
 },
 "nbformat": 4,
 "nbformat_minor": 2
}
